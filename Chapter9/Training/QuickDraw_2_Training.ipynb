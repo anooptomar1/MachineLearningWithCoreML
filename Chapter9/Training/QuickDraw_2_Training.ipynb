{
 "cells": [
  {
   "cell_type": "markdown",
   "metadata": {},
   "source": [
    "# The Quick, Draw! Dataset"
   ]
  },
  {
   "cell_type": "markdown",
   "metadata": {},
   "source": [
    "The Quick Draw Dataset is a collection of 50 million drawings across 345 categories, contributed by players of the game Quick, Draw!. The drawings were captured as timestamped vectors, tagged with metadata including what the player was asked to draw and in which country the player was located. You can browse the recognized drawings on quickdraw.withgoogle.com/data or download the dataset from https://console.cloud.google.com/storage/browser/quickdraw_dataset/?pli=1.  \n",
    "\n",
    "The architecture was ported across from the tutorial <a href='https://www.tensorflow.org/versions/master/tutorials/recurrent_quickdraw'>Recurrent Neural Networks for Drawing Classification</a> (associated repo available <a href='https://github.com/tensorflow/models/tree/master/tutorials/rnn/quickdraw'>here</a>); of which many of the details have been used here.  "
   ]
  },
  {
   "cell_type": "markdown",
   "metadata": {},
   "source": [
    "<img src='https://github.com/googlecreativelab/quickdraw-dataset/raw/master/preview.jpg'/>"
   ]
  },
  {
   "cell_type": "markdown",
   "metadata": {},
   "source": [
    "--- "
   ]
  },
  {
   "cell_type": "code",
   "execution_count": 1,
   "metadata": {},
   "outputs": [
    {
     "name": "stderr",
     "output_type": "stream",
     "text": [
      "/Users/admin/anaconda3/envs/keras/lib/python3.5/site-packages/h5py/__init__.py:36: FutureWarning: Conversion of the second argument of issubdtype from `float` to `np.floating` is deprecated. In future, it will be treated as `np.float64 == np.dtype(float).type`.\n",
      "  from ._conv import register_converters as _register_converters\n",
      "Using TensorFlow backend.\n"
     ]
    },
    {
     "data": {
      "text/plain": [
       "'2.1.2'"
      ]
     },
     "execution_count": 1,
     "metadata": {},
     "output_type": "execute_result"
    }
   ],
   "source": [
    "import keras \n",
    "keras.__version__"
   ]
  },
  {
   "cell_type": "code",
   "execution_count": 12,
   "metadata": {
    "collapsed": true
   },
   "outputs": [],
   "source": [
    "from __future__ import print_function\n",
    "import matplotlib.pyplot as plt\n",
    "import numpy as np\n",
    "from scipy.misc import imresize\n",
    "import os\n",
    "import pickle "
   ]
  },
  {
   "cell_type": "code",
   "execution_count": 13,
   "metadata": {
    "collapsed": true
   },
   "outputs": [],
   "source": [
    "%matplotlib inline\n",
    "%config InlineBackend.figure_format = 'retina'\n",
    "\n",
    "plt.style.use('ggplot')"
   ]
  },
  {
   "cell_type": "code",
   "execution_count": 4,
   "metadata": {
    "collapsed": true
   },
   "outputs": [],
   "source": [
    "from keras import layers\n",
    "from keras import models\n",
    "from keras import optimizers\n",
    "from keras import callbacks\n",
    "\n",
    "from keras.utils import plot_model\n",
    "\n",
    "from keras import preprocessing\n",
    "from keras.preprocessing import image"
   ]
  },
  {
   "cell_type": "markdown",
   "metadata": {},
   "source": [
    "--- "
   ]
  },
  {
   "cell_type": "code",
   "execution_count": 5,
   "metadata": {
    "collapsed": true
   },
   "outputs": [],
   "source": [
    "#DATASET_DIR = '/Users/Joshua.Newnham/Documents/Data/quickdraw_dataset/sketchrnn_training_data/'\n",
    "#DATASET_DIR = '/quickdraw_sketches/'\n",
    "DATASET_DIR = '/Users/admin/Desktop/JN/data/'\n",
    "TRAINING_PARTS = 5 "
   ]
  },
  {
   "cell_type": "code",
   "execution_count": 17,
   "metadata": {
    "collapsed": true
   },
   "outputs": [],
   "source": [
    "EPOCHS = 1000\n",
    "BATCH_SIZE = 512 \n",
    "MAX_SEQ_LEN = 75\n",
    "CLASSES = 172\n",
    "NUM_RNN_LAYERS = 3 \n",
    "NUM_RNN_NODES = 128\n",
    "NUM_CONV = [48, 64, 96, 128]\n",
    "CONV_LEN = [5, 5, 3, 3]\n",
    "DROPOUT = 0.3"
   ]
  },
  {
   "cell_type": "markdown",
   "metadata": {},
   "source": [
    "--- "
   ]
  },
  {
   "cell_type": "code",
   "execution_count": 19,
   "metadata": {
    "collapsed": true
   },
   "outputs": [],
   "source": [
    "def plot_accuracy_loss(history):\n",
    "    acc = history['acc']\n",
    "    val_acc = history['val_acc']\n",
    "    loss = history['loss']\n",
    "    val_loss = history['val_loss']\n",
    "    \n",
    "    print(\"{} {} {} {}\".format(len(acc), len(val_acc), len(loss), len(val_loss)))\n",
    "\n",
    "    epochs = range(len(acc))\n",
    "\n",
    "    plt.plot(epochs, acc, 'bo', label='Training acc')\n",
    "    plt.plot(epochs, val_acc, 'b', label='Validation acc')\n",
    "    plt.title('Training and validation accuracy')\n",
    "    plt.legend()\n",
    "\n",
    "    plt.figure()\n",
    "\n",
    "    plt.plot(epochs, loss, 'bo', label='Training loss')\n",
    "    plt.plot(epochs, val_loss, 'b', label='Validation loss')\n",
    "    plt.title('Training and validation loss')\n",
    "    plt.legend()\n",
    "\n",
    "    plt.show()"
   ]
  },
  {
   "cell_type": "code",
   "execution_count": 8,
   "metadata": {
    "collapsed": true
   },
   "outputs": [],
   "source": [
    "def batch(x, y, batch_size=BATCH_SIZE):\n",
    "    return x.reshape(batch_size, -1, 3), y"
   ]
  },
  {
   "cell_type": "code",
   "execution_count": 9,
   "metadata": {
    "collapsed": true
   },
   "outputs": [],
   "source": [
    "def pad_stroke_sequence(x, max_len=MAX_SEQ_LEN):\n",
    "    padded_x = np.zeros((x.shape[0], max_len, 3), dtype=np.float32)\n",
    "    for i in range(x.shape[0]):\n",
    "        X = x[i]\n",
    "        if X.shape[0] > max_len:\n",
    "            X = X[:max_len, :]\n",
    "        elif X.shape[0] < max_len:\n",
    "            padding = np.array([[0,0,0]] * (max_len-X.shape[0]), dtype=np.float32)            \n",
    "            X = np.vstack((padding, X))\n",
    "            \n",
    "        padded_x[i] = X\n",
    "        \n",
    "    return padded_x"
   ]
  },
  {
   "cell_type": "markdown",
   "metadata": {},
   "source": [
    "--- "
   ]
  },
  {
   "cell_type": "code",
   "execution_count": 19,
   "metadata": {
    "collapsed": true
   },
   "outputs": [],
   "source": [
    "def create_model(input_shape=(MAX_SEQ_LEN, 3), \n",
    "                 num_conv=NUM_CONV, \n",
    "                 conv_len=CONV_LEN, \n",
    "                 dropout=DROPOUT, \n",
    "                 batch_size=BATCH_SIZE, \n",
    "                 num_rnn_layers=NUM_RNN_LAYERS, \n",
    "                 num_rnn_nodes=NUM_RNN_NODES, \n",
    "                 num_classes=CLASSES):\n",
    "    \n",
    "    model = models.Sequential() \n",
    "    for i, filters in enumerate(num_conv):\n",
    "        if i == 0:\n",
    "            # TODO: feasible to use a TimeDistributed wrapper here? https://keras.io/layers/wrappers/\n",
    "            model.add(\n",
    "                layers.Conv1D(filters=filters, \n",
    "                              kernel_size=conv_len[i], \n",
    "                              activation=None, \n",
    "                              strides=1, \n",
    "                              padding='same', \n",
    "                              name='conv1d_{}'.format(i), input_shape=input_shape))\n",
    "        else:\n",
    "            model.add(layers.Dropout(dropout, name=\"dropout_{}\".format(i)))\n",
    "            model.add(layers.Conv1D(filters=filters, \n",
    "                                    kernel_size=conv_len[i], \n",
    "                                    activation=None, \n",
    "                                    strides=1, \n",
    "                                    padding='same', \n",
    "                                    name='conv1d_{}'.format(i)))\n",
    "      \n",
    "    for i in range(num_rnn_layers):\n",
    "        model.add(layers.Bidirectional(layers.LSTM(units=num_rnn_nodes, \n",
    "                                                   return_sequences=True, \n",
    "                                                   recurrent_dropout=dropout), \n",
    "                                       name=\"lstm_{}\".format(i)))\n",
    "    \n",
    "    model.add(layers.Flatten())\n",
    "    model.add(layers.Dense(num_classes, activation=\"softmax\"))\n",
    "    \n",
    "                      \n",
    "    return model "
   ]
  },
  {
   "cell_type": "code",
   "execution_count": 11,
   "metadata": {
    "collapsed": true
   },
   "outputs": [],
   "source": [
    "def train(model, \n",
    "          train_x_files, train_y_files, valid_x_files, valid_y_files, \n",
    "          batch_size=BATCH_SIZE, epochs=EPOCHS,\n",
    "          max_seq_len=MAX_SEQ_LEN, \n",
    "          load_previous_weights=True, model_weights_file=\"output/quickdraw_weights.h5\"):\n",
    "    \n",
    "    # load previous weights (if applicable)\n",
    "    if model_weights_file is not None and os.path.isfile(model_weights_file) and load_previous_weights:\n",
    "        print(\"Loading weights from file {}\".format(model_weights_file))\n",
    "        model.load_weights(model_weights_file)\n",
    "    \n",
    "    checkpoint = callbacks.ModelCheckpoint(model_weights_file, \n",
    "                                           monitor='val_loss', \n",
    "                                           verbose=0, \n",
    "                                           save_best_only=True, \n",
    "                                           save_weights_only=True, \n",
    "                                           mode='auto', \n",
    "                                           period=1)\n",
    "    \n",
    "    # compile model \n",
    "    model.compile(\n",
    "        loss='categorical_crossentropy', \n",
    "        optimizer='rmsprop', \n",
    "        metrics=['accuracy'])\n",
    "    \n",
    "    history_file = \"{}_history.pickle\".format(model_weights_file.replace(\".h5\", \"\"))\n",
    "    \n",
    "    if os.path.isfile(history_file):\n",
    "        with open(history_file, 'rb') as f:\n",
    "            accumulated_history = pickle.load(f)\n",
    "    else:\n",
    "        accumulated_history = {\n",
    "            'acc': [], \n",
    "            'val_acc': [], \n",
    "            'loss': [], \n",
    "            'val_loss': []\n",
    "        }                        \n",
    "    \n",
    "    for e in range(epochs):\n",
    "        for i in range(len(train_x_files)):\n",
    "            # load data for this iteration \n",
    "            train_x = np.load(train_x_files[i])\n",
    "            train_y = np.load(train_y_files[i])\n",
    "            \n",
    "            valid_x = np.load(valid_x_files[i])\n",
    "            valid_y = np.load(valid_y_files[i])\n",
    "    \n",
    "            # prepare training and validation data \n",
    "            train_x = pad_stroke_sequence(train_x)\n",
    "            valid_x = pad_stroke_sequence(valid_x)        \n",
    "    \n",
    "            history = model.fit(train_x, train_y,\n",
    "                                batch_size=batch_size, \n",
    "                                epochs=1,\n",
    "                                validation_data=(valid_x, valid_y), \n",
    "                                shuffle=True, \n",
    "                                callbacks=[checkpoint])\n",
    "        \n",
    "            accumulated_history['acc'] += history.history['acc']\n",
    "            accumulated_history['val_acc'] += history.history['val_acc']\n",
    "            accumulated_history['loss'] += history.history['loss']\n",
    "            accumulated_history['val_loss'] += history.history['val_loss'] \n",
    "            \n",
    "            with open(history_file, 'wb') as f:\n",
    "                pickle.dump(accumulated_history, f)\n",
    "    \n",
    "    return model, accumulated_history "
   ]
  },
  {
   "cell_type": "markdown",
   "metadata": {},
   "source": [
    "### Load training and validation data "
   ]
  },
  {
   "cell_type": "code",
   "execution_count": 12,
   "metadata": {
    "collapsed": true
   },
   "outputs": [],
   "source": [
    "# Load files \n",
    "\n",
    "train_x_files = [] \n",
    "train_y_files = []\n",
    "valid_x_files = [] \n",
    "valid_y_files = []\n",
    "\n",
    "for part_num in range(1, TRAINING_PARTS+1):\n",
    "    train_x_files.append(os.path.join(DATASET_DIR, \"train_{}_x.npy\".format(part_num)))\n",
    "    train_y_files.append(os.path.join(DATASET_DIR, \"train_{}_y.npy\".format(part_num)))\n",
    "    valid_x_files.append(os.path.join(DATASET_DIR, \"validation_{}_x.npy\".format(part_num)))\n",
    "    valid_y_files.append(os.path.join(DATASET_DIR, \"validation_{}_y.npy\".format(part_num)))"
   ]
  },
  {
   "cell_type": "code",
   "execution_count": 13,
   "metadata": {},
   "outputs": [
    {
     "name": "stdout",
     "output_type": "stream",
     "text": [
      "train_1_x (344000,), train_1_y (344000, 172), padded_train_1_x (344000, 75, 3)\n"
     ]
    }
   ],
   "source": [
    "train_1_x = np.load(train_x_files[0])\n",
    "train_1_y = np.load(train_y_files[0])\n",
    "padded_train_1_x = pad_stroke_sequence(train_1_x)\n",
    "\n",
    "print(\"train_1_x {}, train_1_y {}, padded_train_1_x {}\".format(\n",
    "    train_1_x.shape, \n",
    "    train_1_y.shape, \n",
    "    padded_train_1_x.shape))"
   ]
  },
  {
   "cell_type": "code",
   "execution_count": 14,
   "metadata": {},
   "outputs": [
    {
     "name": "stdout",
     "output_type": "stream",
     "text": [
      "valid_1_x (34400,), valid_1_y (34400, 172), padded_valid_1_x (34400, 75, 3)\n"
     ]
    }
   ],
   "source": [
    "valid_1_x = np.load(valid_x_files[0])\n",
    "valid_1_y = np.load(valid_y_files[0])\n",
    "padded_valid_1_x = pad_stroke_sequence(valid_1_x)\n",
    "\n",
    "print(\"valid_1_x {}, valid_1_y {}, padded_valid_1_x {}\".format(\n",
    "    valid_1_x.shape, \n",
    "    valid_1_y.shape, \n",
    "    padded_valid_1_x.shape))"
   ]
  },
  {
   "cell_type": "markdown",
   "metadata": {},
   "source": [
    "### Create model and train "
   ]
  },
  {
   "cell_type": "code",
   "execution_count": 30,
   "metadata": {},
   "outputs": [
    {
     "name": "stdout",
     "output_type": "stream",
     "text": [
      "_________________________________________________________________\n",
      "Layer (type)                 Output Shape              Param #   \n",
      "=================================================================\n",
      "conv1d_0 (Conv1D)            (None, 75, 48)            768       \n",
      "_________________________________________________________________\n",
      "dropout_1 (Dropout)          (None, 75, 48)            0         \n",
      "_________________________________________________________________\n",
      "conv1d_1 (Conv1D)            (None, 75, 64)            15424     \n",
      "_________________________________________________________________\n",
      "dropout_2 (Dropout)          (None, 75, 64)            0         \n",
      "_________________________________________________________________\n",
      "conv1d_2 (Conv1D)            (None, 75, 96)            18528     \n",
      "_________________________________________________________________\n",
      "dropout_3 (Dropout)          (None, 75, 96)            0         \n",
      "_________________________________________________________________\n",
      "conv1d_3 (Conv1D)            (None, 75, 128)           36992     \n",
      "_________________________________________________________________\n",
      "lstm_0 (Bidirectional)       (None, 75, 256)           263168    \n",
      "_________________________________________________________________\n",
      "lstm_1 (Bidirectional)       (None, 75, 256)           394240    \n",
      "_________________________________________________________________\n",
      "lstm_2 (Bidirectional)       (None, 75, 256)           394240    \n",
      "_________________________________________________________________\n",
      "flatten_2 (Flatten)          (None, 19200)             0         \n",
      "_________________________________________________________________\n",
      "dense_2 (Dense)              (None, 172)               3302572   \n",
      "=================================================================\n",
      "Total params: 4,425,932\n",
      "Trainable params: 4,425,932\n",
      "Non-trainable params: 0\n",
      "_________________________________________________________________\n"
     ]
    }
   ],
   "source": [
    "model = create_model()\n",
    "model.summary()"
   ]
  },
  {
   "cell_type": "code",
   "execution_count": 31,
   "metadata": {},
   "outputs": [
    {
     "name": "stdout",
     "output_type": "stream",
     "text": [
      "Train on 344000 samples, validate on 34400 samples\n",
      "Epoch 1/1\n",
      "344000/344000 [==============================] - 3988s 12ms/step - loss: 3.0310 - acc: 0.3087 - val_loss: 1.9418 - val_acc: 0.5145\n",
      "Train on 344000 samples, validate on 34400 samples\n",
      "Epoch 1/1\n",
      "344000/344000 [==============================] - 3890s 11ms/step - loss: 1.7117 - acc: 0.5634 - val_loss: 1.3766 - val_acc: 0.6425\n",
      "Train on 344000 samples, validate on 34400 samples\n",
      "Epoch 1/1\n",
      "344000/344000 [==============================] - 3893s 11ms/step - loss: 1.4078 - acc: 0.6337 - val_loss: 1.2576 - val_acc: 0.6708\n",
      "Train on 344000 samples, validate on 34400 samples\n",
      "Epoch 1/1\n",
      "344000/344000 [==============================] - 3890s 11ms/step - loss: 1.2502 - acc: 0.6717 - val_loss: 1.0950 - val_acc: 0.7113\n",
      "Train on 344000 samples, validate on 34400 samples\n",
      "Epoch 1/1\n",
      "344000/344000 [==============================] - 3890s 11ms/step - loss: 1.1601 - acc: 0.6938 - val_loss: 1.0532 - val_acc: 0.7213\n",
      "Train on 344000 samples, validate on 34400 samples\n",
      "Epoch 1/1\n",
      "344000/344000 [==============================] - 3887s 11ms/step - loss: 1.0933 - acc: 0.7103 - val_loss: 0.9957 - val_acc: 0.7354\n",
      "Train on 344000 samples, validate on 34400 samples\n",
      "Epoch 1/1\n",
      "344000/344000 [==============================] - 3889s 11ms/step - loss: 1.0341 - acc: 0.7252 - val_loss: 0.9578 - val_acc: 0.7473\n",
      "Train on 344000 samples, validate on 34400 samples\n",
      "Epoch 1/1\n",
      "344000/344000 [==============================] - 3885s 11ms/step - loss: 0.9943 - acc: 0.7356 - val_loss: 0.9228 - val_acc: 0.7558\n",
      "Train on 344000 samples, validate on 34400 samples\n",
      "Epoch 1/1\n",
      "344000/344000 [==============================] - 3894s 11ms/step - loss: 0.9590 - acc: 0.7442 - val_loss: 0.9129 - val_acc: 0.7588\n",
      "Train on 344000 samples, validate on 34400 samples\n",
      "Epoch 1/1\n",
      "344000/344000 [==============================] - 3896s 11ms/step - loss: 0.9306 - acc: 0.7503 - val_loss: 0.8757 - val_acc: 0.7644\n",
      "Train on 344000 samples, validate on 34400 samples\n",
      "Epoch 1/1\n",
      "344000/344000 [==============================] - 3883s 11ms/step - loss: 0.9073 - acc: 0.7572 - val_loss: 0.8965 - val_acc: 0.7649\n",
      "Train on 344000 samples, validate on 34400 samples\n",
      "Epoch 1/1\n",
      "344000/344000 [==============================] - 3879s 11ms/step - loss: 0.8806 - acc: 0.7636 - val_loss: 0.8509 - val_acc: 0.7720\n",
      "Train on 344000 samples, validate on 34400 samples\n",
      "Epoch 1/1\n",
      "344000/344000 [==============================] - 3885s 11ms/step - loss: 0.8649 - acc: 0.7687 - val_loss: 0.8151 - val_acc: 0.7822\n",
      "Train on 344000 samples, validate on 34400 samples\n",
      "Epoch 1/1\n",
      "344000/344000 [==============================] - 3883s 11ms/step - loss: 0.8442 - acc: 0.7726 - val_loss: 0.8279 - val_acc: 0.7813\n",
      "Train on 344000 samples, validate on 34400 samples\n",
      "Epoch 1/1\n",
      "344000/344000 [==============================] - 3901s 11ms/step - loss: 0.8289 - acc: 0.7766 - val_loss: 0.7970 - val_acc: 0.7861\n",
      "Train on 344000 samples, validate on 34400 samples\n",
      "Epoch 1/1\n",
      "344000/344000 [==============================] - 3889s 11ms/step - loss: 0.8122 - acc: 0.7808 - val_loss: 0.8118 - val_acc: 0.7869\n",
      "Train on 344000 samples, validate on 34400 samples\n",
      "Epoch 1/1\n",
      "344000/344000 [==============================] - 3907s 11ms/step - loss: 0.7973 - acc: 0.7848 - val_loss: 0.7906 - val_acc: 0.7899\n",
      "Train on 344000 samples, validate on 34400 samples\n",
      "Epoch 1/1\n",
      "344000/344000 [==============================] - 3899s 11ms/step - loss: 0.7860 - acc: 0.7883 - val_loss: 0.7998 - val_acc: 0.7882\n",
      "Train on 344000 samples, validate on 34400 samples\n",
      "Epoch 1/1\n",
      "344000/344000 [==============================] - 3900s 11ms/step - loss: 0.7726 - acc: 0.7922 - val_loss: 0.7613 - val_acc: 0.7978\n",
      "Train on 344000 samples, validate on 34400 samples\n",
      "Epoch 1/1\n",
      "344000/344000 [==============================] - 3913s 11ms/step - loss: 0.7647 - acc: 0.7929 - val_loss: 0.7716 - val_acc: 0.7923\n",
      "Train on 344000 samples, validate on 34400 samples\n",
      "Epoch 1/1\n",
      "344000/344000 [==============================] - 3938s 11ms/step - loss: 0.7536 - acc: 0.7963 - val_loss: 0.7739 - val_acc: 0.7969\n",
      "Train on 344000 samples, validate on 34400 samples\n",
      "Epoch 1/1\n",
      "344000/344000 [==============================] - 3946s 11ms/step - loss: 0.7405 - acc: 0.7995 - val_loss: 0.7653 - val_acc: 0.7966\n",
      "Train on 344000 samples, validate on 34400 samples\n",
      "Epoch 1/1\n",
      "344000/344000 [==============================] - 3955s 11ms/step - loss: 0.7363 - acc: 0.8013 - val_loss: 0.7547 - val_acc: 0.7998\n",
      "Train on 344000 samples, validate on 34400 samples\n",
      "Epoch 1/1\n",
      "344000/344000 [==============================] - 3934s 11ms/step - loss: 0.7240 - acc: 0.8040 - val_loss: 0.7573 - val_acc: 0.8008\n",
      "Train on 344000 samples, validate on 34400 samples\n",
      "Epoch 1/1\n",
      "344000/344000 [==============================] - 3930s 11ms/step - loss: 0.7176 - acc: 0.8050 - val_loss: 0.7581 - val_acc: 0.7982\n",
      "Train on 344000 samples, validate on 34400 samples\n",
      "Epoch 1/1\n",
      "344000/344000 [==============================] - 3930s 11ms/step - loss: 0.7116 - acc: 0.8071 - val_loss: 0.7610 - val_acc: 0.7998\n",
      "Train on 344000 samples, validate on 34400 samples\n",
      "Epoch 1/1\n",
      "344000/344000 [==============================] - 3927s 11ms/step - loss: 0.6984 - acc: 0.8102 - val_loss: 0.7520 - val_acc: 0.7989\n",
      "Train on 344000 samples, validate on 34400 samples\n",
      "Epoch 1/1\n",
      "344000/344000 [==============================] - 3938s 11ms/step - loss: 0.6960 - acc: 0.8108 - val_loss: 0.7517 - val_acc: 0.8024\n",
      "Train on 344000 samples, validate on 34400 samples\n",
      "Epoch 1/1\n",
      "344000/344000 [==============================] - 3940s 11ms/step - loss: 0.6859 - acc: 0.8135 - val_loss: 0.7391 - val_acc: 0.8055\n",
      "Train on 344000 samples, validate on 34400 samples\n",
      "Epoch 1/1\n",
      "344000/344000 [==============================] - 3941s 11ms/step - loss: 0.6821 - acc: 0.8140 - val_loss: 0.7458 - val_acc: 0.8040\n",
      "Train on 344000 samples, validate on 34400 samples\n",
      "Epoch 1/1\n",
      "344000/344000 [==============================] - 3944s 11ms/step - loss: 0.6744 - acc: 0.8162 - val_loss: 0.7661 - val_acc: 0.8008\n",
      "Train on 344000 samples, validate on 34400 samples\n",
      "Epoch 1/1\n",
      "344000/344000 [==============================] - 3946s 11ms/step - loss: 0.6684 - acc: 0.8170 - val_loss: 0.7338 - val_acc: 0.8076\n",
      "Train on 344000 samples, validate on 34400 samples\n",
      "Epoch 1/1\n",
      "344000/344000 [==============================] - 3957s 12ms/step - loss: 0.6659 - acc: 0.8184 - val_loss: 0.7274 - val_acc: 0.8091\n",
      "Train on 344000 samples, validate on 34400 samples\n",
      "Epoch 1/1\n",
      "344000/344000 [==============================] - 3957s 12ms/step - loss: 0.6556 - acc: 0.8220 - val_loss: 0.7422 - val_acc: 0.8074\n",
      "Train on 344000 samples, validate on 34400 samples\n",
      "Epoch 1/1\n",
      "344000/344000 [==============================] - 3963s 12ms/step - loss: 0.6536 - acc: 0.8212 - val_loss: 0.7507 - val_acc: 0.8040\n",
      "Train on 344000 samples, validate on 34400 samples\n",
      "Epoch 1/1\n",
      "344000/344000 [==============================] - 3965s 12ms/step - loss: 0.6469 - acc: 0.8226 - val_loss: 0.7599 - val_acc: 0.8042\n",
      "Train on 344000 samples, validate on 34400 samples\n",
      "Epoch 1/1\n",
      "344000/344000 [==============================] - 3970s 12ms/step - loss: 0.6405 - acc: 0.8248 - val_loss: 0.7430 - val_acc: 0.8075\n",
      "Train on 344000 samples, validate on 34400 samples\n",
      "Epoch 1/1\n",
      "344000/344000 [==============================] - 3975s 12ms/step - loss: 0.6376 - acc: 0.8252 - val_loss: 0.7324 - val_acc: 0.8072\n",
      "Train on 344000 samples, validate on 34400 samples\n",
      "Epoch 1/1\n",
      "344000/344000 [==============================] - 3976s 12ms/step - loss: 0.6303 - acc: 0.8279 - val_loss: 0.7377 - val_acc: 0.8067\n",
      "Train on 344000 samples, validate on 34400 samples\n",
      "Epoch 1/1\n",
      "344000/344000 [==============================] - 3979s 12ms/step - loss: 0.6250 - acc: 0.8288 - val_loss: 0.7764 - val_acc: 0.7962\n",
      "Train on 344000 samples, validate on 34400 samples\n",
      "Epoch 1/1\n",
      "344000/344000 [==============================] - 3960s 12ms/step - loss: 0.6224 - acc: 0.8288 - val_loss: 0.7575 - val_acc: 0.8062\n",
      "Train on 344000 samples, validate on 34400 samples\n",
      "Epoch 1/1\n",
      "344000/344000 [==============================] - 3934s 11ms/step - loss: 0.6163 - acc: 0.8302 - val_loss: 0.7351 - val_acc: 0.8076\n",
      "Train on 344000 samples, validate on 34400 samples\n",
      "Epoch 1/1\n",
      "344000/344000 [==============================] - 3924s 11ms/step - loss: 0.6132 - acc: 0.8313 - val_loss: 0.7206 - val_acc: 0.8106\n",
      "Train on 344000 samples, validate on 34400 samples\n",
      "Epoch 1/1\n",
      "344000/344000 [==============================] - 3917s 11ms/step - loss: 0.6062 - acc: 0.8340 - val_loss: 0.7379 - val_acc: 0.8079\n",
      "Train on 344000 samples, validate on 34400 samples\n",
      "Epoch 1/1\n",
      "344000/344000 [==============================] - 3909s 11ms/step - loss: 0.6045 - acc: 0.8342 - val_loss: 0.7600 - val_acc: 0.8022\n",
      "Train on 344000 samples, validate on 34400 samples\n",
      "Epoch 1/1\n",
      "344000/344000 [==============================] - 3904s 11ms/step - loss: 0.5980 - acc: 0.8355 - val_loss: 0.7610 - val_acc: 0.8065\n",
      "Train on 344000 samples, validate on 34400 samples\n",
      "Epoch 1/1\n",
      "344000/344000 [==============================] - 3906s 11ms/step - loss: 0.5910 - acc: 0.8368 - val_loss: 0.7362 - val_acc: 0.8102\n",
      "Train on 344000 samples, validate on 34400 samples\n",
      "Epoch 1/1\n",
      "344000/344000 [==============================] - 3907s 11ms/step - loss: 0.5913 - acc: 0.8367 - val_loss: 0.7657 - val_acc: 0.8025\n",
      "Train on 344000 samples, validate on 34400 samples\n",
      "Epoch 1/1\n",
      "344000/344000 [==============================] - 3898s 11ms/step - loss: 0.5844 - acc: 0.8391 - val_loss: 0.7469 - val_acc: 0.8050\n",
      "Train on 344000 samples, validate on 34400 samples\n",
      "Epoch 1/1\n",
      "344000/344000 [==============================] - 3906s 11ms/step - loss: 0.5818 - acc: 0.8392 - val_loss: 0.7534 - val_acc: 0.8055\n",
      "Train on 344000 samples, validate on 34400 samples\n",
      "Epoch 1/1\n",
      "344000/344000 [==============================] - 3904s 11ms/step - loss: 0.5794 - acc: 0.8389 - val_loss: 0.7513 - val_acc: 0.8061\n",
      "Train on 344000 samples, validate on 34400 samples\n",
      "Epoch 1/1\n",
      "344000/344000 [==============================] - 3898s 11ms/step - loss: 0.5719 - acc: 0.8418 - val_loss: 0.7478 - val_acc: 0.8074\n",
      "Train on 344000 samples, validate on 34400 samples\n",
      "Epoch 1/1\n",
      "344000/344000 [==============================] - 3899s 11ms/step - loss: 0.5704 - acc: 0.8420 - val_loss: 0.7446 - val_acc: 0.8106\n",
      "Train on 344000 samples, validate on 34400 samples\n",
      "Epoch 1/1\n",
      "344000/344000 [==============================] - 3896s 11ms/step - loss: 0.5643 - acc: 0.8435 - val_loss: 0.7424 - val_acc: 0.8099\n",
      "Train on 344000 samples, validate on 34400 samples\n",
      "Epoch 1/1\n",
      "344000/344000 [==============================] - 3895s 11ms/step - loss: 0.5615 - acc: 0.8445 - val_loss: 0.7722 - val_acc: 0.8029\n",
      "Train on 344000 samples, validate on 34400 samples\n",
      "Epoch 1/1\n",
      "344000/344000 [==============================] - 3892s 11ms/step - loss: 0.5577 - acc: 0.8448 - val_loss: 0.7700 - val_acc: 0.8046\n",
      "Train on 344000 samples, validate on 34400 samples\n",
      "Epoch 1/1\n",
      "344000/344000 [==============================] - 3900s 11ms/step - loss: 0.5514 - acc: 0.8472 - val_loss: 0.7390 - val_acc: 0.8108\n",
      "Train on 344000 samples, validate on 34400 samples\n",
      "Epoch 1/1\n",
      "344000/344000 [==============================] - 3901s 11ms/step - loss: 0.5520 - acc: 0.8463 - val_loss: 0.7619 - val_acc: 0.8067\n",
      "Train on 344000 samples, validate on 34400 samples\n",
      "Epoch 1/1\n",
      "344000/344000 [==============================] - 3900s 11ms/step - loss: 0.5437 - acc: 0.8489 - val_loss: 0.7699 - val_acc: 0.8017\n",
      "Train on 344000 samples, validate on 34400 samples\n",
      "Epoch 1/1\n",
      "344000/344000 [==============================] - 3903s 11ms/step - loss: 0.5430 - acc: 0.8491 - val_loss: 0.7595 - val_acc: 0.8057\n",
      "Train on 344000 samples, validate on 34400 samples\n",
      "Epoch 1/1\n",
      "344000/344000 [==============================] - 3903s 11ms/step - loss: 0.5393 - acc: 0.8492 - val_loss: 0.7989 - val_acc: 0.7998\n",
      "Train on 344000 samples, validate on 34400 samples\n",
      "Epoch 1/1\n",
      "344000/344000 [==============================] - 3902s 11ms/step - loss: 0.5328 - acc: 0.8510 - val_loss: 0.7565 - val_acc: 0.8065\n",
      "Train on 344000 samples, validate on 34400 samples\n",
      "Epoch 1/1\n",
      "344000/344000 [==============================] - 3899s 11ms/step - loss: 0.5334 - acc: 0.8513 - val_loss: 0.7755 - val_acc: 0.8031\n",
      "Train on 344000 samples, validate on 34400 samples\n",
      "Epoch 1/1\n",
      "344000/344000 [==============================] - 3911s 11ms/step - loss: 0.5262 - acc: 0.8534 - val_loss: 0.7721 - val_acc: 0.8044\n",
      "Train on 344000 samples, validate on 34400 samples\n",
      "Epoch 1/1\n",
      "344000/344000 [==============================] - 3958s 12ms/step - loss: 0.5241 - acc: 0.8540 - val_loss: 0.7717 - val_acc: 0.8058\n",
      "Train on 344000 samples, validate on 34400 samples\n",
      "Epoch 1/1\n",
      "344000/344000 [==============================] - 3983s 12ms/step - loss: 0.5218 - acc: 0.8535 - val_loss: 0.7849 - val_acc: 0.8042\n",
      "Train on 344000 samples, validate on 34400 samples\n",
      "Epoch 1/1\n",
      "344000/344000 [==============================] - 3987s 12ms/step - loss: 0.5158 - acc: 0.8556 - val_loss: 0.7599 - val_acc: 0.8072\n",
      "Train on 344000 samples, validate on 34400 samples\n",
      "Epoch 1/1\n",
      "344000/344000 [==============================] - 3989s 12ms/step - loss: 0.5163 - acc: 0.8552 - val_loss: 0.7839 - val_acc: 0.8031\n",
      "Train on 344000 samples, validate on 34400 samples\n",
      "Epoch 1/1\n",
      "344000/344000 [==============================] - 4000s 12ms/step - loss: 0.5105 - acc: 0.8566 - val_loss: 0.7677 - val_acc: 0.8059\n",
      "Train on 344000 samples, validate on 34400 samples\n",
      "Epoch 1/1\n",
      "344000/344000 [==============================] - 3999s 12ms/step - loss: 0.5082 - acc: 0.8576 - val_loss: 0.7715 - val_acc: 0.8049\n",
      "Train on 344000 samples, validate on 34400 samples\n",
      "Epoch 1/1\n",
      "344000/344000 [==============================] - 3995s 12ms/step - loss: 0.5058 - acc: 0.8569 - val_loss: 0.7881 - val_acc: 0.8017\n",
      "Train on 344000 samples, validate on 34400 samples\n",
      "Epoch 1/1\n",
      "344000/344000 [==============================] - 4004s 12ms/step - loss: 0.5013 - acc: 0.8582 - val_loss: 0.7746 - val_acc: 0.8046\n",
      "Train on 344000 samples, validate on 34400 samples\n",
      "Epoch 1/1\n",
      "344000/344000 [==============================] - 4007s 12ms/step - loss: 0.4991 - acc: 0.8598 - val_loss: 0.7726 - val_acc: 0.8053\n",
      "Train on 344000 samples, validate on 34400 samples\n",
      "Epoch 1/1\n",
      "344000/344000 [==============================] - 4005s 12ms/step - loss: 0.4949 - acc: 0.8610 - val_loss: 0.8057 - val_acc: 0.8026\n",
      "Train on 344000 samples, validate on 34400 samples\n",
      "Epoch 1/1\n",
      "344000/344000 [==============================] - 4028s 12ms/step - loss: 0.4932 - acc: 0.8606 - val_loss: 0.7898 - val_acc: 0.8005\n",
      "Train on 344000 samples, validate on 34400 samples\n",
      "Epoch 1/1\n",
      "344000/344000 [==============================] - 4058s 12ms/step - loss: 0.4896 - acc: 0.8616 - val_loss: 0.8070 - val_acc: 0.7992\n",
      "Train on 344000 samples, validate on 34400 samples\n",
      "Epoch 1/1\n",
      "344000/344000 [==============================] - 3992s 12ms/step - loss: 0.4852 - acc: 0.8629 - val_loss: 0.7898 - val_acc: 0.8042\n",
      "Train on 344000 samples, validate on 34400 samples\n",
      "Epoch 1/1\n",
      "344000/344000 [==============================] - 4007s 12ms/step - loss: 0.4837 - acc: 0.8635 - val_loss: 0.7923 - val_acc: 0.8030\n",
      "Train on 344000 samples, validate on 34400 samples\n",
      "Epoch 1/1\n",
      "344000/344000 [==============================] - 3994s 12ms/step - loss: 0.4816 - acc: 0.8639 - val_loss: 0.8259 - val_acc: 0.8007\n",
      "Train on 344000 samples, validate on 34400 samples\n",
      "Epoch 1/1\n",
      "344000/344000 [==============================] - 3958s 12ms/step - loss: 0.4773 - acc: 0.8649 - val_loss: 0.8373 - val_acc: 0.7910\n",
      "Train on 344000 samples, validate on 34400 samples\n",
      "Epoch 1/1\n",
      "344000/344000 [==============================] - 3951s 11ms/step - loss: 0.4751 - acc: 0.8653 - val_loss: 0.8073 - val_acc: 0.8013\n",
      "Train on 344000 samples, validate on 34400 samples\n",
      "Epoch 1/1\n",
      "344000/344000 [==============================] - 3949s 11ms/step - loss: 0.4702 - acc: 0.8666 - val_loss: 0.7975 - val_acc: 0.8011\n",
      "Train on 344000 samples, validate on 34400 samples\n",
      "Epoch 1/1\n",
      "344000/344000 [==============================] - 3949s 11ms/step - loss: 0.4697 - acc: 0.8663 - val_loss: 0.8028 - val_acc: 0.8011\n",
      "Train on 344000 samples, validate on 34400 samples\n",
      "Epoch 1/1\n",
      "344000/344000 [==============================] - 3948s 11ms/step - loss: 0.4675 - acc: 0.8671 - val_loss: 0.8180 - val_acc: 0.8020\n",
      "Train on 344000 samples, validate on 34400 samples\n",
      "Epoch 1/1\n",
      "344000/344000 [==============================] - 3942s 11ms/step - loss: 0.4641 - acc: 0.8681 - val_loss: 0.8297 - val_acc: 0.7969\n"
     ]
    },
    {
     "name": "stdout",
     "output_type": "stream",
     "text": [
      "Train on 344000 samples, validate on 34400 samples\n",
      "Epoch 1/1\n",
      "344000/344000 [==============================] - 3947s 11ms/step - loss: 0.4610 - acc: 0.8681 - val_loss: 0.8317 - val_acc: 0.7970\n",
      "Train on 344000 samples, validate on 34400 samples\n",
      "Epoch 1/1\n",
      "138752/344000 [===========>..................] - ETA: 38:03 - loss: 0.4587 - acc: 0.8687"
     ]
    },
    {
     "ename": "KeyboardInterrupt",
     "evalue": "",
     "output_type": "error",
     "traceback": [
      "\u001b[0;31m---------------------------------------------------------------------------\u001b[0m",
      "\u001b[0;31mKeyboardInterrupt\u001b[0m                         Traceback (most recent call last)",
      "\u001b[0;32m<ipython-input-31-9f7c24bd6b3f>\u001b[0m in \u001b[0;36m<module>\u001b[0;34m()\u001b[0m\n\u001b[1;32m      5\u001b[0m                                 \u001b[0mvalid_y_files\u001b[0m\u001b[0;34m=\u001b[0m\u001b[0mvalid_y_files\u001b[0m\u001b[0;34m,\u001b[0m\u001b[0;34m\u001b[0m\u001b[0m\n\u001b[1;32m      6\u001b[0m                                 \u001b[0mload_previous_weights\u001b[0m\u001b[0;34m=\u001b[0m\u001b[0;32mTrue\u001b[0m\u001b[0;34m,\u001b[0m\u001b[0;34m\u001b[0m\u001b[0m\n\u001b[0;32m----> 7\u001b[0;31m                                 model_weights_file=\"quickdraw_weights_201801181834.h5\")\n\u001b[0m",
      "\u001b[0;32m<ipython-input-11-54f24610908b>\u001b[0m in \u001b[0;36mtrain\u001b[0;34m(model, train_x_files, train_y_files, valid_x_files, valid_y_files, batch_size, epochs, max_seq_len, load_previous_weights, model_weights_file)\u001b[0m\n\u001b[1;32m     55\u001b[0m                                 \u001b[0mvalidation_data\u001b[0m\u001b[0;34m=\u001b[0m\u001b[0;34m(\u001b[0m\u001b[0mvalid_x\u001b[0m\u001b[0;34m,\u001b[0m \u001b[0mvalid_y\u001b[0m\u001b[0;34m)\u001b[0m\u001b[0;34m,\u001b[0m\u001b[0;34m\u001b[0m\u001b[0m\n\u001b[1;32m     56\u001b[0m                                 \u001b[0mshuffle\u001b[0m\u001b[0;34m=\u001b[0m\u001b[0;32mTrue\u001b[0m\u001b[0;34m,\u001b[0m\u001b[0;34m\u001b[0m\u001b[0m\n\u001b[0;32m---> 57\u001b[0;31m                                 callbacks=[checkpoint])\n\u001b[0m\u001b[1;32m     58\u001b[0m \u001b[0;34m\u001b[0m\u001b[0m\n\u001b[1;32m     59\u001b[0m             \u001b[0maccumulated_history\u001b[0m\u001b[0;34m[\u001b[0m\u001b[0;34m'acc'\u001b[0m\u001b[0;34m]\u001b[0m \u001b[0;34m+=\u001b[0m \u001b[0mhistory\u001b[0m\u001b[0;34m.\u001b[0m\u001b[0mhistory\u001b[0m\u001b[0;34m[\u001b[0m\u001b[0;34m'acc'\u001b[0m\u001b[0;34m]\u001b[0m\u001b[0;34m\u001b[0m\u001b[0m\n",
      "\u001b[0;32m~/anaconda3/envs/keras/lib/python3.5/site-packages/keras/models.py\u001b[0m in \u001b[0;36mfit\u001b[0;34m(self, x, y, batch_size, epochs, verbose, callbacks, validation_split, validation_data, shuffle, class_weight, sample_weight, initial_epoch, steps_per_epoch, validation_steps, **kwargs)\u001b[0m\n\u001b[1;32m    958\u001b[0m                               \u001b[0minitial_epoch\u001b[0m\u001b[0;34m=\u001b[0m\u001b[0minitial_epoch\u001b[0m\u001b[0;34m,\u001b[0m\u001b[0;34m\u001b[0m\u001b[0m\n\u001b[1;32m    959\u001b[0m                               \u001b[0msteps_per_epoch\u001b[0m\u001b[0;34m=\u001b[0m\u001b[0msteps_per_epoch\u001b[0m\u001b[0;34m,\u001b[0m\u001b[0;34m\u001b[0m\u001b[0m\n\u001b[0;32m--> 960\u001b[0;31m                               validation_steps=validation_steps)\n\u001b[0m\u001b[1;32m    961\u001b[0m \u001b[0;34m\u001b[0m\u001b[0m\n\u001b[1;32m    962\u001b[0m     def evaluate(self, x, y, batch_size=32, verbose=1,\n",
      "\u001b[0;32m~/anaconda3/envs/keras/lib/python3.5/site-packages/keras/engine/training.py\u001b[0m in \u001b[0;36mfit\u001b[0;34m(self, x, y, batch_size, epochs, verbose, callbacks, validation_split, validation_data, shuffle, class_weight, sample_weight, initial_epoch, steps_per_epoch, validation_steps, **kwargs)\u001b[0m\n\u001b[1;32m   1655\u001b[0m                               \u001b[0minitial_epoch\u001b[0m\u001b[0;34m=\u001b[0m\u001b[0minitial_epoch\u001b[0m\u001b[0;34m,\u001b[0m\u001b[0;34m\u001b[0m\u001b[0m\n\u001b[1;32m   1656\u001b[0m                               \u001b[0msteps_per_epoch\u001b[0m\u001b[0;34m=\u001b[0m\u001b[0msteps_per_epoch\u001b[0m\u001b[0;34m,\u001b[0m\u001b[0;34m\u001b[0m\u001b[0m\n\u001b[0;32m-> 1657\u001b[0;31m                               validation_steps=validation_steps)\n\u001b[0m\u001b[1;32m   1658\u001b[0m \u001b[0;34m\u001b[0m\u001b[0m\n\u001b[1;32m   1659\u001b[0m     def evaluate(self, x=None, y=None,\n",
      "\u001b[0;32m~/anaconda3/envs/keras/lib/python3.5/site-packages/keras/engine/training.py\u001b[0m in \u001b[0;36m_fit_loop\u001b[0;34m(self, f, ins, out_labels, batch_size, epochs, verbose, callbacks, val_f, val_ins, shuffle, callback_metrics, initial_epoch, steps_per_epoch, validation_steps)\u001b[0m\n\u001b[1;32m   1211\u001b[0m                     \u001b[0mbatch_logs\u001b[0m\u001b[0;34m[\u001b[0m\u001b[0;34m'size'\u001b[0m\u001b[0;34m]\u001b[0m \u001b[0;34m=\u001b[0m \u001b[0mlen\u001b[0m\u001b[0;34m(\u001b[0m\u001b[0mbatch_ids\u001b[0m\u001b[0;34m)\u001b[0m\u001b[0;34m\u001b[0m\u001b[0m\n\u001b[1;32m   1212\u001b[0m                     \u001b[0mcallbacks\u001b[0m\u001b[0;34m.\u001b[0m\u001b[0mon_batch_begin\u001b[0m\u001b[0;34m(\u001b[0m\u001b[0mbatch_index\u001b[0m\u001b[0;34m,\u001b[0m \u001b[0mbatch_logs\u001b[0m\u001b[0;34m)\u001b[0m\u001b[0;34m\u001b[0m\u001b[0m\n\u001b[0;32m-> 1213\u001b[0;31m                     \u001b[0mouts\u001b[0m \u001b[0;34m=\u001b[0m \u001b[0mf\u001b[0m\u001b[0;34m(\u001b[0m\u001b[0mins_batch\u001b[0m\u001b[0;34m)\u001b[0m\u001b[0;34m\u001b[0m\u001b[0m\n\u001b[0m\u001b[1;32m   1214\u001b[0m                     \u001b[0;32mif\u001b[0m \u001b[0;32mnot\u001b[0m \u001b[0misinstance\u001b[0m\u001b[0;34m(\u001b[0m\u001b[0mouts\u001b[0m\u001b[0;34m,\u001b[0m \u001b[0mlist\u001b[0m\u001b[0;34m)\u001b[0m\u001b[0;34m:\u001b[0m\u001b[0;34m\u001b[0m\u001b[0m\n\u001b[1;32m   1215\u001b[0m                         \u001b[0mouts\u001b[0m \u001b[0;34m=\u001b[0m \u001b[0;34m[\u001b[0m\u001b[0mouts\u001b[0m\u001b[0;34m]\u001b[0m\u001b[0;34m\u001b[0m\u001b[0m\n",
      "\u001b[0;32m~/anaconda3/envs/keras/lib/python3.5/site-packages/keras/backend/tensorflow_backend.py\u001b[0m in \u001b[0;36m__call__\u001b[0;34m(self, inputs)\u001b[0m\n\u001b[1;32m   2355\u001b[0m         \u001b[0msession\u001b[0m \u001b[0;34m=\u001b[0m \u001b[0mget_session\u001b[0m\u001b[0;34m(\u001b[0m\u001b[0;34m)\u001b[0m\u001b[0;34m\u001b[0m\u001b[0m\n\u001b[1;32m   2356\u001b[0m         updated = session.run(fetches=fetches, feed_dict=feed_dict,\n\u001b[0;32m-> 2357\u001b[0;31m                               **self.session_kwargs)\n\u001b[0m\u001b[1;32m   2358\u001b[0m         \u001b[0;32mreturn\u001b[0m \u001b[0mupdated\u001b[0m\u001b[0;34m[\u001b[0m\u001b[0;34m:\u001b[0m\u001b[0mlen\u001b[0m\u001b[0;34m(\u001b[0m\u001b[0mself\u001b[0m\u001b[0;34m.\u001b[0m\u001b[0moutputs\u001b[0m\u001b[0;34m)\u001b[0m\u001b[0;34m]\u001b[0m\u001b[0;34m\u001b[0m\u001b[0m\n\u001b[1;32m   2359\u001b[0m \u001b[0;34m\u001b[0m\u001b[0m\n",
      "\u001b[0;32m~/anaconda3/envs/keras/lib/python3.5/site-packages/tensorflow/python/client/session.py\u001b[0m in \u001b[0;36mrun\u001b[0;34m(self, fetches, feed_dict, options, run_metadata)\u001b[0m\n\u001b[1;32m    887\u001b[0m     \u001b[0;32mtry\u001b[0m\u001b[0;34m:\u001b[0m\u001b[0;34m\u001b[0m\u001b[0m\n\u001b[1;32m    888\u001b[0m       result = self._run(None, fetches, feed_dict, options_ptr,\n\u001b[0;32m--> 889\u001b[0;31m                          run_metadata_ptr)\n\u001b[0m\u001b[1;32m    890\u001b[0m       \u001b[0;32mif\u001b[0m \u001b[0mrun_metadata\u001b[0m\u001b[0;34m:\u001b[0m\u001b[0;34m\u001b[0m\u001b[0m\n\u001b[1;32m    891\u001b[0m         \u001b[0mproto_data\u001b[0m \u001b[0;34m=\u001b[0m \u001b[0mtf_session\u001b[0m\u001b[0;34m.\u001b[0m\u001b[0mTF_GetBuffer\u001b[0m\u001b[0;34m(\u001b[0m\u001b[0mrun_metadata_ptr\u001b[0m\u001b[0;34m)\u001b[0m\u001b[0;34m\u001b[0m\u001b[0m\n",
      "\u001b[0;32m~/anaconda3/envs/keras/lib/python3.5/site-packages/tensorflow/python/client/session.py\u001b[0m in \u001b[0;36m_run\u001b[0;34m(self, handle, fetches, feed_dict, options, run_metadata)\u001b[0m\n\u001b[1;32m   1118\u001b[0m     \u001b[0;32mif\u001b[0m \u001b[0mfinal_fetches\u001b[0m \u001b[0;32mor\u001b[0m \u001b[0mfinal_targets\u001b[0m \u001b[0;32mor\u001b[0m \u001b[0;34m(\u001b[0m\u001b[0mhandle\u001b[0m \u001b[0;32mand\u001b[0m \u001b[0mfeed_dict_tensor\u001b[0m\u001b[0;34m)\u001b[0m\u001b[0;34m:\u001b[0m\u001b[0;34m\u001b[0m\u001b[0m\n\u001b[1;32m   1119\u001b[0m       results = self._do_run(handle, final_targets, final_fetches,\n\u001b[0;32m-> 1120\u001b[0;31m                              feed_dict_tensor, options, run_metadata)\n\u001b[0m\u001b[1;32m   1121\u001b[0m     \u001b[0;32melse\u001b[0m\u001b[0;34m:\u001b[0m\u001b[0;34m\u001b[0m\u001b[0m\n\u001b[1;32m   1122\u001b[0m       \u001b[0mresults\u001b[0m \u001b[0;34m=\u001b[0m \u001b[0;34m[\u001b[0m\u001b[0;34m]\u001b[0m\u001b[0;34m\u001b[0m\u001b[0m\n",
      "\u001b[0;32m~/anaconda3/envs/keras/lib/python3.5/site-packages/tensorflow/python/client/session.py\u001b[0m in \u001b[0;36m_do_run\u001b[0;34m(self, handle, target_list, fetch_list, feed_dict, options, run_metadata)\u001b[0m\n\u001b[1;32m   1315\u001b[0m     \u001b[0;32mif\u001b[0m \u001b[0mhandle\u001b[0m \u001b[0;32mis\u001b[0m \u001b[0;32mNone\u001b[0m\u001b[0;34m:\u001b[0m\u001b[0;34m\u001b[0m\u001b[0m\n\u001b[1;32m   1316\u001b[0m       return self._do_call(_run_fn, self._session, feeds, fetches, targets,\n\u001b[0;32m-> 1317\u001b[0;31m                            options, run_metadata)\n\u001b[0m\u001b[1;32m   1318\u001b[0m     \u001b[0;32melse\u001b[0m\u001b[0;34m:\u001b[0m\u001b[0;34m\u001b[0m\u001b[0m\n\u001b[1;32m   1319\u001b[0m       \u001b[0;32mreturn\u001b[0m \u001b[0mself\u001b[0m\u001b[0;34m.\u001b[0m\u001b[0m_do_call\u001b[0m\u001b[0;34m(\u001b[0m\u001b[0m_prun_fn\u001b[0m\u001b[0;34m,\u001b[0m \u001b[0mself\u001b[0m\u001b[0;34m.\u001b[0m\u001b[0m_session\u001b[0m\u001b[0;34m,\u001b[0m \u001b[0mhandle\u001b[0m\u001b[0;34m,\u001b[0m \u001b[0mfeeds\u001b[0m\u001b[0;34m,\u001b[0m \u001b[0mfetches\u001b[0m\u001b[0;34m)\u001b[0m\u001b[0;34m\u001b[0m\u001b[0m\n",
      "\u001b[0;32m~/anaconda3/envs/keras/lib/python3.5/site-packages/tensorflow/python/client/session.py\u001b[0m in \u001b[0;36m_do_call\u001b[0;34m(self, fn, *args)\u001b[0m\n\u001b[1;32m   1321\u001b[0m   \u001b[0;32mdef\u001b[0m \u001b[0m_do_call\u001b[0m\u001b[0;34m(\u001b[0m\u001b[0mself\u001b[0m\u001b[0;34m,\u001b[0m \u001b[0mfn\u001b[0m\u001b[0;34m,\u001b[0m \u001b[0;34m*\u001b[0m\u001b[0margs\u001b[0m\u001b[0;34m)\u001b[0m\u001b[0;34m:\u001b[0m\u001b[0;34m\u001b[0m\u001b[0m\n\u001b[1;32m   1322\u001b[0m     \u001b[0;32mtry\u001b[0m\u001b[0;34m:\u001b[0m\u001b[0;34m\u001b[0m\u001b[0m\n\u001b[0;32m-> 1323\u001b[0;31m       \u001b[0;32mreturn\u001b[0m \u001b[0mfn\u001b[0m\u001b[0;34m(\u001b[0m\u001b[0;34m*\u001b[0m\u001b[0margs\u001b[0m\u001b[0;34m)\u001b[0m\u001b[0;34m\u001b[0m\u001b[0m\n\u001b[0m\u001b[1;32m   1324\u001b[0m     \u001b[0;32mexcept\u001b[0m \u001b[0merrors\u001b[0m\u001b[0;34m.\u001b[0m\u001b[0mOpError\u001b[0m \u001b[0;32mas\u001b[0m \u001b[0me\u001b[0m\u001b[0;34m:\u001b[0m\u001b[0;34m\u001b[0m\u001b[0m\n\u001b[1;32m   1325\u001b[0m       \u001b[0mmessage\u001b[0m \u001b[0;34m=\u001b[0m \u001b[0mcompat\u001b[0m\u001b[0;34m.\u001b[0m\u001b[0mas_text\u001b[0m\u001b[0;34m(\u001b[0m\u001b[0me\u001b[0m\u001b[0;34m.\u001b[0m\u001b[0mmessage\u001b[0m\u001b[0;34m)\u001b[0m\u001b[0;34m\u001b[0m\u001b[0m\n",
      "\u001b[0;32m~/anaconda3/envs/keras/lib/python3.5/site-packages/tensorflow/python/client/session.py\u001b[0m in \u001b[0;36m_run_fn\u001b[0;34m(session, feed_dict, fetch_list, target_list, options, run_metadata)\u001b[0m\n\u001b[1;32m   1300\u001b[0m           return tf_session.TF_Run(session, options,\n\u001b[1;32m   1301\u001b[0m                                    \u001b[0mfeed_dict\u001b[0m\u001b[0;34m,\u001b[0m \u001b[0mfetch_list\u001b[0m\u001b[0;34m,\u001b[0m \u001b[0mtarget_list\u001b[0m\u001b[0;34m,\u001b[0m\u001b[0;34m\u001b[0m\u001b[0m\n\u001b[0;32m-> 1302\u001b[0;31m                                    status, run_metadata)\n\u001b[0m\u001b[1;32m   1303\u001b[0m \u001b[0;34m\u001b[0m\u001b[0m\n\u001b[1;32m   1304\u001b[0m     \u001b[0;32mdef\u001b[0m \u001b[0m_prun_fn\u001b[0m\u001b[0;34m(\u001b[0m\u001b[0msession\u001b[0m\u001b[0;34m,\u001b[0m \u001b[0mhandle\u001b[0m\u001b[0;34m,\u001b[0m \u001b[0mfeed_dict\u001b[0m\u001b[0;34m,\u001b[0m \u001b[0mfetch_list\u001b[0m\u001b[0;34m)\u001b[0m\u001b[0;34m:\u001b[0m\u001b[0;34m\u001b[0m\u001b[0m\n",
      "\u001b[0;31mKeyboardInterrupt\u001b[0m: "
     ]
    }
   ],
   "source": [
    "model, training_history = train(model, \n",
    "                                train_x_files=train_x_files, \n",
    "                                train_y_files=train_y_files, \n",
    "                                valid_x_files=valid_x_files, \n",
    "                                valid_y_files=valid_y_files, \n",
    "                                load_previous_weights=True, \n",
    "                                model_weights_file=\"quickdraw_weights_201801181834.h5\")"
   ]
  },
  {
   "cell_type": "code",
   "execution_count": 21,
   "metadata": {},
   "outputs": [
    {
     "name": "stdout",
     "output_type": "stream",
     "text": [
      "86 86 86 86\n"
     ]
    },
    {
     "data": {
      "image/png": "[encoded data removed]",
      "text/plain": [
       "<matplotlib.figure.Figure at 0x11ad71400>"
      ]
     },
     "metadata": {
      "image/png": {
       "height": 265,
       "width": 380
      }
     },
     "output_type": "display_data"
    },
    {
     "data": {
      "image/png": "[encoded data removed]",
      "text/plain": [
       "<matplotlib.figure.Figure at 0x11aba6cc0>"
      ]
     },
     "metadata": {
      "image/png": {
       "height": 265,
       "width": 373
      }
     },
     "output_type": "display_data"
    }
   ],
   "source": [
    "with open('{}_history.pickle'.format('output/quickdraw_weights_201801181834'), 'rb') as f:\n",
    "    training_history = pickle.load(f)\n",
    "plot_accuracy_loss(training_history)"
   ]
  },
  {
   "cell_type": "code",
   "execution_count": null,
   "metadata": {
    "collapsed": true
   },
   "outputs": [],
   "source": []
  }
 ],
 "metadata": {
  "kernelspec": {
   "display_name": "Python 3",
   "language": "python",
   "name": "python3"
  },
  "language_info": {
   "codemirror_mode": {
    "name": "ipython",
    "version": 3
   },
   "file_extension": ".py",
   "mimetype": "text/x-python",
   "name": "python",
   "nbconvert_exporter": "python",
   "pygments_lexer": "ipython3",
   "version": "3.5.4"
  }
 },
 "nbformat": 4,
 "nbformat_minor": 2
}
